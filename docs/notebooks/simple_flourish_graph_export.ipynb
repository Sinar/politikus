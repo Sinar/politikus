{
 "cells": [
  {
   "cell_type": "code",
   "execution_count": 198,
   "metadata": {},
   "outputs": [],
   "source": [
    "import requests\n",
    "import urllib\n",
    "import pandas as pd"
   ]
  },
  {
   "cell_type": "code",
   "execution_count": 199,
   "metadata": {},
   "outputs": [],
   "source": [
    "session = requests.Session()\n",
    "session.headers.update({'Accept': 'application/json'})\n"
   ]
  },
  {
   "cell_type": "code",
   "execution_count": 200,
   "metadata": {},
   "outputs": [],
   "source": [
    "base_url = \"https://unmasked.nation.africa/\"\n",
    "\n",
    "response = session.get(\"https://unmasked.nation.africa/@search?fullobjects=1&portal_type=Membership\")"
   ]
  },
  {
   "cell_type": "code",
   "execution_count": 201,
   "metadata": {},
   "outputs": [],
   "source": [
    "# Points: who,with\n",
    "# Links: who,bio,category,photo,size"
   ]
  },
  {
   "cell_type": "code",
   "execution_count": 202,
   "metadata": {},
   "outputs": [],
   "source": [
    "memberships = response.json()['items']"
   ]
  },
  {
   "cell_type": "markdown",
   "metadata": {},
   "source": [
    "Ideally we should use networkx to build and extract relationships, this is a hack\n",
    "\n",
    "# Points"
   ]
  },
  {
   "cell_type": "code",
   "execution_count": 203,
   "metadata": {},
   "outputs": [],
   "source": [
    "key_person_links = []\n",
    "    \n",
    "#Key person\n",
    "\n",
    "key_person = \"Uhuru Kenyatta\"\n",
    "for member in memberships:\n",
    "    \n",
    "    if member['person']['title']== key_person:\n",
    "        key_person_links.append({\"Who\" : member['person']['title'],\n",
    "                                 \"who_id\" : member['person']['@id'],\n",
    "                                 \"Associated With\" : member['organization']['title'],\n",
    "                                 \"associated_id\" : member['organization']['@id'],})"
   ]
  },
  {
   "cell_type": "code",
   "execution_count": 204,
   "metadata": {},
   "outputs": [],
   "source": [
    "#For associated persons\n",
    "\n",
    "associated_person_links = []\n",
    "\n",
    "for link in key_person_links:\n",
    "    if link.get('Associated With'):\n",
    "        for member in memberships:\n",
    "            if member['organization']['title']==link['Associated With']:\n",
    "                if member['person']['title'] != key_person:\n",
    "                    associated_person_links.append({\"Who\" : member['person']['title'],\n",
    "                                                    \"who_id\" : member['person']['@id'],\n",
    "                                                    \"Associated With\" : member['organization']['title'],\n",
    "                                                    \"associated_id\" : member['organization']['@id'],})\n",
    "            "
   ]
  },
  {
   "cell_type": "code",
   "execution_count": 205,
   "metadata": {},
   "outputs": [],
   "source": [
    "points = key_person_links + associated_person_links"
   ]
  },
  {
   "cell_type": "code",
   "execution_count": 206,
   "metadata": {},
   "outputs": [
    {
     "data": {
      "text/plain": [
       "[{'Who': 'Uhuru Kenyatta',\n",
       "  'who_id': 'https://unmasked.nation.africa/people/uhuru-kenyatta',\n",
       "  'Associated With': 'Jubilee Party',\n",
       "  'associated_id': 'https://unmasked.nation.africa/organisations/jubilee-party'},\n",
       " {'Who': 'David Murathe',\n",
       "  'who_id': 'https://unmasked.nation.africa/people/david-murathe',\n",
       "  'Associated With': 'Jubilee Party',\n",
       "  'associated_id': 'https://unmasked.nation.africa/organisations/jubilee-party'}]"
      ]
     },
     "execution_count": 206,
     "metadata": {},
     "output_type": "execute_result"
    }
   ],
   "source": [
    "points"
   ]
  },
  {
   "cell_type": "code",
   "execution_count": 207,
   "metadata": {},
   "outputs": [
    {
     "data": {
      "text/html": [
       "<div>\n",
       "<style scoped>\n",
       "    .dataframe tbody tr th:only-of-type {\n",
       "        vertical-align: middle;\n",
       "    }\n",
       "\n",
       "    .dataframe tbody tr th {\n",
       "        vertical-align: top;\n",
       "    }\n",
       "\n",
       "    .dataframe thead th {\n",
       "        text-align: right;\n",
       "    }\n",
       "</style>\n",
       "<table border=\"1\" class=\"dataframe\">\n",
       "  <thead>\n",
       "    <tr style=\"text-align: right;\">\n",
       "      <th></th>\n",
       "      <th>Who</th>\n",
       "      <th>who_id</th>\n",
       "      <th>Associated With</th>\n",
       "      <th>associated_id</th>\n",
       "    </tr>\n",
       "  </thead>\n",
       "  <tbody>\n",
       "    <tr>\n",
       "      <th>0</th>\n",
       "      <td>Uhuru Kenyatta</td>\n",
       "      <td>https://unmasked.nation.africa/people/uhuru-ke...</td>\n",
       "      <td>Jubilee Party</td>\n",
       "      <td>https://unmasked.nation.africa/organisations/j...</td>\n",
       "    </tr>\n",
       "    <tr>\n",
       "      <th>1</th>\n",
       "      <td>David Murathe</td>\n",
       "      <td>https://unmasked.nation.africa/people/david-mu...</td>\n",
       "      <td>Jubilee Party</td>\n",
       "      <td>https://unmasked.nation.africa/organisations/j...</td>\n",
       "    </tr>\n",
       "  </tbody>\n",
       "</table>\n",
       "</div>"
      ],
      "text/plain": [
       "              Who                                             who_id  \\\n",
       "0  Uhuru Kenyatta  https://unmasked.nation.africa/people/uhuru-ke...   \n",
       "1   David Murathe  https://unmasked.nation.africa/people/david-mu...   \n",
       "\n",
       "  Associated With                                      associated_id  \n",
       "0   Jubilee Party  https://unmasked.nation.africa/organisations/j...  \n",
       "1   Jubilee Party  https://unmasked.nation.africa/organisations/j...  "
      ]
     },
     "execution_count": 207,
     "metadata": {},
     "output_type": "execute_result"
    }
   ],
   "source": [
    "df_points = pd.DataFrame(points)\n",
    "df_points"
   ]
  },
  {
   "cell_type": "markdown",
   "metadata": {},
   "source": [
    "# Links\n",
    "\n",
    "Links: who,bio,category,photo,size"
   ]
  },
  {
   "cell_type": "code",
   "execution_count": 208,
   "metadata": {},
   "outputs": [],
   "source": [
    "\n",
    "# Individuals\n",
    "\n",
    "individuals = []\n",
    "\n",
    "for index, person in df_points.drop_duplicates(subset=['Who']).iterrows():\n",
    "    # get details from API\n",
    "    \n",
    "    url = person['who_id']+'?fullobjects=1'\n",
    "    response = session.get(url)\n",
    "    individual = response.json()\n",
    "    if individual['image']:\n",
    "        image_url = individual['image']['download'] \n",
    "    else:\n",
    "        image_url = None\n",
    "    individuals.append({'Who': person['Who'],\n",
    "                        'Bio': individual['summary'],\n",
    "                        'Category': 'Individual',\n",
    "                        'Photo': image_url,\n",
    "                       })\n",
    "\n",
    "organizations = [] \n",
    "\n",
    "for index, org in df_points.drop_duplicates(subset=['Associated With']).iterrows():\n",
    "    # get details from API\n",
    "    \n",
    "    url = org['associated_id']+'?fullobjects=1'\n",
    "    response = session.get(url)\n",
    "    company = response.json()\n",
    "    if company['image']:\n",
    "        image_url = company['image']['download'] \n",
    "    else:\n",
    "        image_url = None\n",
    "    organizations.append({'Who': org['Associated With'],\n",
    "                        'Bio': company['description'],\n",
    "                        'Category': 'Company',\n",
    "                        'Photo': image_url,\n",
    "                       })       \n",
    "\n",
    "\n"
   ]
  },
  {
   "cell_type": "code",
   "execution_count": 209,
   "metadata": {},
   "outputs": [
    {
     "data": {
      "text/plain": [
       "[{'Who': 'Uhuru Kenyatta',\n",
       "  'Bio': 'Uhuru Muigai Kenyatta (born 26 October 1961) is a Kenyan politician, businessman, and the fourth and current President of the Republic of Kenya.',\n",
       "  'Category': 'Individual',\n",
       "  'Photo': 'https://unmasked.nation.africa/people/uhuru-kenyatta/@@images/5b140073-8bc1-43f2-a451-c3cb7c68e5d0.png'},\n",
       " {'Who': 'David Murathe',\n",
       "  'Bio': 'David Murathe is a politician, vice-president of Jubilee Party',\n",
       "  'Category': 'Individual',\n",
       "  'Photo': None}]"
      ]
     },
     "execution_count": 209,
     "metadata": {},
     "output_type": "execute_result"
    }
   ],
   "source": [
    "individuals"
   ]
  },
  {
   "cell_type": "code",
   "execution_count": 210,
   "metadata": {},
   "outputs": [
    {
     "data": {
      "text/plain": [
       "[{'Who': 'Jubilee Party',\n",
       "  'Bio': 'The Jubilee Party of Kenya is the ruling political party of the Republic of Kenya. The party was founded on 8 September 2016, following the merger of 11 smaller parties.',\n",
       "  'Category': 'Company',\n",
       "  'Photo': 'https://unmasked.nation.africa/organisations/jubilee-party/@@images/fd00ae3c-7416-42f9-aacb-7c0ac05928eb.png'}]"
      ]
     },
     "execution_count": 210,
     "metadata": {},
     "output_type": "execute_result"
    }
   ],
   "source": [
    "organizations"
   ]
  },
  {
   "cell_type": "code",
   "execution_count": 211,
   "metadata": {},
   "outputs": [],
   "source": [
    "links = individuals + organizations"
   ]
  },
  {
   "cell_type": "code",
   "execution_count": 212,
   "metadata": {},
   "outputs": [
    {
     "data": {
      "text/html": [
       "<div>\n",
       "<style scoped>\n",
       "    .dataframe tbody tr th:only-of-type {\n",
       "        vertical-align: middle;\n",
       "    }\n",
       "\n",
       "    .dataframe tbody tr th {\n",
       "        vertical-align: top;\n",
       "    }\n",
       "\n",
       "    .dataframe thead th {\n",
       "        text-align: right;\n",
       "    }\n",
       "</style>\n",
       "<table border=\"1\" class=\"dataframe\">\n",
       "  <thead>\n",
       "    <tr style=\"text-align: right;\">\n",
       "      <th></th>\n",
       "      <th>Who</th>\n",
       "      <th>Bio</th>\n",
       "      <th>Category</th>\n",
       "      <th>Photo</th>\n",
       "    </tr>\n",
       "  </thead>\n",
       "  <tbody>\n",
       "    <tr>\n",
       "      <th>0</th>\n",
       "      <td>Uhuru Kenyatta</td>\n",
       "      <td>Uhuru Muigai Kenyatta (born 26 October 1961) i...</td>\n",
       "      <td>Individual</td>\n",
       "      <td>https://unmasked.nation.africa/people/uhuru-ke...</td>\n",
       "    </tr>\n",
       "    <tr>\n",
       "      <th>1</th>\n",
       "      <td>David Murathe</td>\n",
       "      <td>David Murathe is a politician, vice-president ...</td>\n",
       "      <td>Individual</td>\n",
       "      <td>None</td>\n",
       "    </tr>\n",
       "    <tr>\n",
       "      <th>2</th>\n",
       "      <td>Jubilee Party</td>\n",
       "      <td>The Jubilee Party of Kenya is the ruling polit...</td>\n",
       "      <td>Company</td>\n",
       "      <td>https://unmasked.nation.africa/organisations/j...</td>\n",
       "    </tr>\n",
       "  </tbody>\n",
       "</table>\n",
       "</div>"
      ],
      "text/plain": [
       "              Who                                                Bio  \\\n",
       "0  Uhuru Kenyatta  Uhuru Muigai Kenyatta (born 26 October 1961) i...   \n",
       "1   David Murathe  David Murathe is a politician, vice-president ...   \n",
       "2   Jubilee Party  The Jubilee Party of Kenya is the ruling polit...   \n",
       "\n",
       "     Category                                              Photo  \n",
       "0  Individual  https://unmasked.nation.africa/people/uhuru-ke...  \n",
       "1  Individual                                               None  \n",
       "2     Company  https://unmasked.nation.africa/organisations/j...  "
      ]
     },
     "execution_count": 212,
     "metadata": {},
     "output_type": "execute_result"
    }
   ],
   "source": [
    "df_links = pd.DataFrame(links)\n",
    "df_links"
   ]
  },
  {
   "cell_type": "code",
   "execution_count": 215,
   "metadata": {},
   "outputs": [],
   "source": [
    "df_points.to_csv('points.csv',index=False)\n",
    "df_links.to_csv('links.csv',index=False)"
   ]
  },
  {
   "cell_type": "code",
   "execution_count": null,
   "metadata": {},
   "outputs": [],
   "source": []
  }
 ],
 "metadata": {
  "kernelspec": {
   "display_name": "Python 3",
   "language": "python",
   "name": "python3"
  },
  "language_info": {
   "codemirror_mode": {
    "name": "ipython",
    "version": 3
   },
   "file_extension": ".py",
   "mimetype": "text/x-python",
   "name": "python",
   "nbconvert_exporter": "python",
   "pygments_lexer": "ipython3",
   "version": "3.8.6"
  }
 },
 "nbformat": 4,
 "nbformat_minor": 4
}
