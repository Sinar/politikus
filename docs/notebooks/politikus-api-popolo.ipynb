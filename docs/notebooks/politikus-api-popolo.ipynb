{
 "cells": [
  {
   "cell_type": "markdown",
   "metadata": {},
   "source": [
    "# Politikus ReST API Notes for Popolo Types "
   ]
  },
  {
   "cell_type": "code",
   "execution_count": 72,
   "metadata": {},
   "outputs": [],
   "source": [
    "import requests\n",
    "headers={'Accept':'application/json'}"
   ]
  },
  {
   "cell_type": "markdown",
   "metadata": {},
   "source": [
    "### Querying for Memberships\n",
    "\n",
    "#### Querying for when person joined or was appointed to a post/membership\n",
    "\n",
    "Specific date: \n",
    "\n",
    "`https://<sitename>/@search?portal_type=Membership&start_date.query=<date>`\n",
    "\n",
    "`https://politikus.sinarproject.org/@search?portal_type=Membership&start_date.query=2020-04-10`\n",
    "       \n",
    "From date: <sitename>/@search?portal_type=Membership&start_date.query=<date>"
   ]
  },
  {
   "cell_type": "code",
   "execution_count": 73,
   "metadata": {},
   "outputs": [],
   "source": [
    "url = \"https://politikus.sinarproject.org/@search?portal_type=Membership&start_date.query=2020-04-01&start_date.range=min&fullobjects=1\""
   ]
  },
  {
   "cell_type": "code",
   "execution_count": 74,
   "metadata": {},
   "outputs": [],
   "source": [
    "r = requests.get(url,headers=headers)"
   ]
  },
  {
   "cell_type": "code",
   "execution_count": 75,
   "metadata": {},
   "outputs": [],
   "source": [
    "results = r.json()"
   ]
  },
  {
   "cell_type": "code",
   "execution_count": 76,
   "metadata": {},
   "outputs": [
    {
     "data": {
      "text/plain": [
       "{'@id': 'https://politikus.sinarproject.org/persons/nelson-renganathan',\n",
       " '@type': 'Person',\n",
       " 'description': 'Datuk Nelson Renganathan current chairman of Human Resources Development Fund (HRDF), the chairman of Regent International School and former MIC Youth chief.',\n",
       " 'review_state': 'published',\n",
       " 'title': 'Nelson Renganathan'}"
      ]
     },
     "execution_count": 76,
     "metadata": {},
     "output_type": "execute_result"
    }
   ],
   "source": [
    "results['items'][0]['person']"
   ]
  },
  {
   "cell_type": "code",
   "execution_count": 77,
   "metadata": {
    "scrolled": true
   },
   "outputs": [
    {
     "name": "stdout",
     "output_type": "stream",
     "text": [
      "https://politikus.sinarproject.org/persons/nelson-renganathan\n",
      "Person: Nelson Renganathan\n",
      "Datuk Nelson Renganathan current chairman of Human Resources Development Fund (HRDF), the chairman of Regent International School and former MIC Youth chief.\n",
      "Orgnization: Human Resources Development Fund\n",
      "\n",
      "Start Date: 2020-04-01\n",
      "\n",
      "\n",
      "https://politikus.sinarproject.org/persons/azhan-shafriman-hanif\n",
      "Person: Azhan Shafriman Hanif\n",
      "Current CEO of Sepang International Circuit\n",
      "Orgnization: Sepang International Circuit\n",
      "The Sepang International Circuit is a motorsport race track in Sepang, Selangor, Malaysia. It is located approximately 45 km south of Kuala Lumpur, and close to Kuala Lumpur International Airport\n",
      "Start Date: 2020-04-08\n",
      "\n",
      "\n",
      "https://politikus.sinarproject.org/persons/ahmad-fadhli-shaari\n",
      "Person: Ahmad Fadhli Shaari\n",
      "Ahmad Fadhli Shaari is a Malaysian politician from PAS and current Member of Parliament for Pasir Mas\n",
      "Orgnization: Skills Development Fund Corporation\n",
      "Skills Development Fund Corporation commonly known by the acronym PTPK is a Malaysian Statutory Body under the Ministry of Human Resources\n",
      "Start Date: 2020-04-08\n",
      "\n",
      "\n",
      "https://politikus.sinarproject.org/persons/nelson-renganathan\n",
      "Person: Nelson Renganathan\n",
      "Datuk Nelson Renganathan current chairman of Human Resources Development Fund (HRDF), the chairman of Regent International School and former MIC Youth chief.\n",
      "Orgnization: Human Resources Development Fund\n",
      "\n",
      "Start Date: 2020-04-01\n",
      "\n",
      "\n",
      "https://politikus.sinarproject.org/persons/ahmad-jazlan\n",
      "Person: Ahmad Jazlan\n",
      "Ahmad Jazlan is a Malaysian politician and Member of Parliament for Machang\n",
      "Orgnization: Malaysian Palm Oil Board\n",
      "The Malaysian Palm Oil Board, abbreviated MPOB, is a government agency responsible for the promotion and development of the palm oil industry in Malaysia.\n",
      "Start Date: 2020-04-10\n",
      "\n",
      "\n"
     ]
    }
   ],
   "source": [
    "for member in results['items']:\n",
    "    print(member['person']['@id'])\n",
    "    print(\"Person: \" + member['person']['title'])\n",
    "    print(member['person']['description'])\n",
    "    print(\"Orgnization: \" + member['organization']['title'])\n",
    "    print(member['organization']['description'])\n",
    "    print(\"Start Date: \" + member['start_date'])\n",
    "    print('\\n')"
   ]
  },
  {
   "cell_type": "markdown",
   "metadata": {},
   "source": [
    "For each relation you will need to do an additional request for @id to get more details for each Person, Organization or Post"
   ]
  },
  {
   "cell_type": "code",
   "execution_count": 78,
   "metadata": {},
   "outputs": [],
   "source": [
    "url = 'https://politikus.sinarproject.org/persons/ahmad-jazlan'\n",
    "r = requests.get(url,headers=headers)\n",
    "\n",
    "person = r.json()"
   ]
  },
  {
   "cell_type": "markdown",
   "metadata": {},
   "source": [
    "person['image']['scales']['thumb']['download']"
   ]
  },
  {
   "cell_type": "markdown",
   "metadata": {},
   "source": [
    "![Ahmad Jazlan](https://politikus.sinarproject.org/persons/ahmad-jazlan/@@images/313da849-103a-4ec8-8429-9d8dd8ba5453.png)"
   ]
  },
  {
   "cell_type": "code",
   "execution_count": null,
   "metadata": {},
   "outputs": [],
   "source": []
  }
 ],
 "metadata": {
  "kernelspec": {
   "display_name": "Python 3",
   "language": "python",
   "name": "python3"
  },
  "language_info": {
   "codemirror_mode": {
    "name": "ipython",
    "version": 3
   },
   "file_extension": ".py",
   "mimetype": "text/x-python",
   "name": "python",
   "nbconvert_exporter": "python",
   "pygments_lexer": "ipython3",
   "version": "3.7.7"
  }
 },
 "nbformat": 4,
 "nbformat_minor": 4
}
