{
 "cells": [
  {
   "cell_type": "markdown",
   "metadata": {},
   "source": [
    "# Politikus ReST API Notes for Popolo Types "
   ]
  },
  {
   "cell_type": "code",
   "execution_count": 1,
   "metadata": {},
   "outputs": [],
   "source": [
    "import requests\n",
    "headers={'Accept':'application/json'}"
   ]
  },
  {
   "cell_type": "markdown",
   "metadata": {},
   "source": [
    "### Querying for Memberships\n",
    "\n",
    "#### Querying for when person joined or was appointed to a post/membership\n",
    "\n",
    "Specific date: \n",
    "\n",
    "`https://<sitename>/@search?portal_type=Membership&start_date.query=<date>`\n",
    "\n",
    "`https://politikus.sinarproject.org/@search?portal_type=Membership&start_date.query=2020-04-10`\n",
    "       \n",
    "From date: <sitename>/@search?portal_type=Membership&start_date.query=<date>"
   ]
  },
  {
   "cell_type": "code",
   "execution_count": 2,
   "metadata": {},
   "outputs": [],
   "source": [
    "url = \"https://politikus.sinarproject.org/@search?portal_type=Membership&start_date.query=2020-04-01&start_date.range=min&fullobjects=1\""
   ]
  },
  {
   "cell_type": "code",
   "execution_count": 3,
   "metadata": {},
   "outputs": [],
   "source": [
    "r = requests.get(url,headers=headers)"
   ]
  },
  {
   "cell_type": "code",
   "execution_count": 4,
   "metadata": {},
   "outputs": [],
   "source": [
    "results = r.json()"
   ]
  },
  {
   "cell_type": "code",
   "execution_count": 5,
   "metadata": {},
   "outputs": [
    {
     "data": {
      "text/plain": [
       "{'@id': 'https://politikus.sinarproject.org/persons/nelson-renganathan',\n",
       " '@type': 'Person',\n",
       " 'description': 'Datuk Nelson Renganathan current chairman of Human Resources Development Fund (HRDF), the chairman of Regent International School and former MIC Youth chief.',\n",
       " 'review_state': 'published',\n",
       " 'title': 'Nelson Renganathan'}"
      ]
     },
     "execution_count": 5,
     "metadata": {},
     "output_type": "execute_result"
    }
   ],
   "source": [
    "results['items'][0]['person']"
   ]
  },
  {
   "cell_type": "code",
   "execution_count": 8,
   "metadata": {
    "scrolled": true
   },
   "outputs": [
    {
     "name": "stdout",
     "output_type": "stream",
     "text": [
      "Person: Nelson Renganathan\n",
      "Datuk Nelson Renganathan current chairman of Human Resources Development Fund (HRDF), the chairman of Regent International School and former MIC Youth chief.\n",
      "https://politikus.sinarproject.org/persons/nelson-renganathan\n",
      "Panel Chairman\n",
      "Start Date: 2020-04-01\n",
      "Orgnization: Human Resources Development Fund\n",
      "\n",
      "\n",
      "------------\n",
      "\n",
      "Person: Azhan Shafriman Hanif\n",
      "Current CEO of Sepang International Circuit\n",
      "https://politikus.sinarproject.org/persons/azhan-shafriman-hanif\n",
      "Chief Executive Officer\n",
      "Start Date: 2020-04-08\n",
      "Orgnization: Sepang International Circuit\n",
      "The Sepang International Circuit is a motorsport race track in Sepang, Selangor, Malaysia. It is located approximately 45 km south of Kuala Lumpur, and close to Kuala Lumpur International Airport\n",
      "\n",
      "------------\n",
      "\n",
      "Person: Ahmad Fadhli Shaari\n",
      "Ahmad Fadhli Shaari is a Malaysian politician from PAS and current Member of Parliament for Pasir Mas\n",
      "https://politikus.sinarproject.org/persons/ahmad-fadhli-shaari\n",
      "Chairperson\n",
      "Start Date: 2020-04-08\n",
      "Orgnization: Skills Development Fund Corporation\n",
      "Skills Development Fund Corporation commonly known by the acronym PTPK is a Malaysian Statutory Body under the Ministry of Human Resources\n",
      "\n",
      "------------\n",
      "\n",
      "Person: Nelson Renganathan\n",
      "Datuk Nelson Renganathan current chairman of Human Resources Development Fund (HRDF), the chairman of Regent International School and former MIC Youth chief.\n",
      "https://politikus.sinarproject.org/persons/nelson-renganathan\n",
      "Chairman of the Board\n",
      "Start Date: 2020-04-01\n",
      "Orgnization: Human Resources Development Fund\n",
      "\n",
      "\n",
      "------------\n",
      "\n",
      "Person: Ahmad Jazlan\n",
      "Ahmad Jazlan is a Malaysian politician and Member of Parliament for Machang\n",
      "https://politikus.sinarproject.org/persons/ahmad-jazlan\n",
      "Chairman\n",
      "Start Date: 2020-04-10\n",
      "Orgnization: Malaysian Palm Oil Board\n",
      "The Malaysian Palm Oil Board, abbreviated MPOB, is a government agency responsible for the promotion and development of the palm oil industry in Malaysia.\n",
      "\n",
      "------------\n",
      "\n",
      "Person: Shahul Hameed Dawood\n",
      "Shahul Hameed Dawood is a Malaysian businessman, founder of MyEvents International and currently Deputy Chairman of Human Resources Development Fund  (HRDF)\n",
      "https://politikus.sinarproject.org/persons/shahul-hameed-dawood\n",
      "Chief Executive Officer\n",
      "Start Date: 2020-04-20\n",
      "Orgnization: Human Resources Development Fund\n",
      "\n",
      "\n",
      "------------\n",
      "\n",
      "Person: Abdul Wahid Omar\n",
      "A Malaysian corporate bureaucrat, former CEO of Maybank and Minister in Prime Minister's Department of Najib Razak's Cabinet\n",
      "https://politikus.sinarproject.org/persons/abdul-wahid-omar\n",
      "Non-executive Director\n",
      "Start Date: 2020-05-01\n",
      "Orgnization: Bursa Saham Berhad\n",
      "Bursa Malaysia is the stock exchange of Malaysia. It is in Kuala Lumpur; it was previously the Kuala Lumpur Stock Exchange\n",
      "\n",
      "------------\n",
      "\n",
      "Person: Mohamed Khaled Nordin\n",
      "Mohamed Khaled bin Nordin is a Malaysian politician, who was the 15th Menteri Besar of Johor and currently Boustead Holdings Bhd Chairman.\n",
      "https://politikus.sinarproject.org/persons/mohamed-khaled-nordin\n",
      "Non-Independent, Non-Executive Chairman\n",
      "Start Date: 2020-05-01\n",
      "Orgnization: Boustead Holdings Bhd\n",
      "A public listed Malaysian government linked company with active interest in five primary sectors of the Malaysian economy, namely plantation, property & industrial, pharmaceutical, heavy industries, and trading, finance & investment.\n",
      "\n",
      "------------\n",
      "\n",
      "Person: Azizah Mohd Dun\n",
      "Dato' Hajjah Azizah binti Mohd Dun is a Malaysian politician. She is the Member of the Parliament of Malaysia for the Beaufort constituency in Sabah.\n",
      "https://politikus.sinarproject.org/persons/azizah-mohd-dun\n",
      "Chairman\n",
      "Start Date: 2020-05-01\n",
      "Orgnization: Majlis Amanah Rakyat\n",
      "The Majlis Amanah Rakyat (MARA), is a Malaysian government agency. It was formed to aid, train, and guide Bumiputra in the areas of business and industry. MARA was formed on 1 March 1966 under the Rural and National Development Ministry.\n",
      "\n",
      "------------\n",
      "\n",
      "Person: Nik Mohamad Abduh Nik Abdul Aziz\n",
      "Nik Mohamad Abduh Nik Abdul Aziz is a Malaysian Politician and Member of Parliament for Bachok. He is is a member of the Malaysian Islamic Party (PAS).\n",
      "https://politikus.sinarproject.org/persons/nik-mohamad-abduh-nik-abdul-aziz\n",
      "Chairman\n",
      "Start Date: 2020-05-01\n",
      "Orgnization: Lembaga Kemajuan Kelantan Selatan\n",
      "Lembaga Kemajuan Kelantan Selatan (KESEDAR) or South Kelantan Development Authority\n",
      "\n",
      "------------\n",
      "\n",
      "Person: Razali Idris\n",
      "Razali Bin Idris is a Malaysian politician, a Senator and a member of BERSATU political party.\n",
      "https://politikus.sinarproject.org/persons/razali-idris\n",
      "Chairman\n",
      "Start Date: 2020-05-01\n",
      "Orgnization: KETENGAH\n",
      "Lembaga Kemajuan Wilayah Terengganu Tengah\n",
      "\n",
      "------------\n",
      "\n",
      "Person: Salim Sharif\n",
      "Dato' Haji Salim Sharif is a Malaysian politician and Member of Parliament for Jempol, from UMNO political party\n",
      "https://politikus.sinarproject.org/persons/salim-sharif\n",
      "Chairman\n",
      "Start Date: 2020-05-01\n",
      "Orgnization: Rubber Industry Smallholders Development Authority\n",
      "Rubber Industry Smallholders Development Authority (RISDA)\n",
      "\n",
      "------------\n",
      "\n",
      "Person: Che Zakaria Mohd. Salleh\n",
      "Dato' Che Zakaria Mohd. Salleh is a Malaysian politician and State Legislator for Permas, Johor from BERSATU political party\n",
      "https://politikus.sinarproject.org/persons/che-zakaria-mohd-salleh\n",
      "Chariman\n",
      "Start Date: 2020-05-01\n",
      "Orgnization: South East Johore Development Authority\n",
      "South East Johore Development Authority (KEJORA)\n",
      "\n",
      "------------\n",
      "\n",
      "Person: Chong Sin Woon\n",
      "Datuk Chong Sin Woon is a Malaysian politician from the Malaysian Chinese Association. Chong is the present secretary-general of MCA and Charperson of Port Klang Authority (PKA)\n",
      "https://politikus.sinarproject.org/persons/chong-sin-woon\n",
      "Chairperson\n",
      "Start Date: 2020-04-18\n",
      "Orgnization: Port Klang Authority\n",
      "The Port Klang Authority (PKA) is a statutory corporation established on 1st July 1963, to take over the administration of Port Klang from the Malayan Railway Administration.\n",
      "\n",
      "------------\n",
      "\n",
      "Person: Tan Teik Cheng\n",
      "Tan Teik Cheng is a Malaysian politician, vice president of MCA and current Penang Port Commission (PPC) chairman\n",
      "https://politikus.sinarproject.org/persons/tan-teik-cheng\n",
      "Chairperson\n",
      "Start Date: 2020-04-18\n",
      "Orgnization: Penang Port Commission\n",
      "Penang Port Commission (PPC) was established on 1 January 1956 under the Penang Port Commission Act, 1955. PPC is a Statutory Body under the purview of the Ministry of Transport.\n",
      "\n",
      "------------\n",
      "\n",
      "Person: Lukanisman Awang Sauni\n",
      "Lukanisman Awang Sauni is a Malaysian politician. He is a Member of Parliament for the seat of Sibuti, Sarawak with Parti Pesaka Bumiputera (PBB)\n",
      "https://politikus.sinarproject.org/persons/lukanisman-awang-sauni\n",
      "Chairman\n",
      "Start Date: 2020-04-16\n",
      "Orgnization: Sustainable Energy Development Authority (SEDA)\n",
      "The Sustainable Energy Development Authority (SEDA) Malaysia is a statutory body formed under the Sustainable Energy Development Authority Act 2011 [Act 726].  The key role of SEDA is to administer and manage the implementation of the feed-in tariff mechanism which is mandated under the Renewable Energy Act 2011 [Act 725].\n",
      "\n",
      "------------\n",
      "\n",
      "Person: Muhyiddin Yassin\n",
      "Muhyiddin bin Haji Muhammad Yassin is a Malaysian politician currently serving as the prime minister of Malaysia.\n",
      "https://politikus.sinarproject.org/persons/muhyiddin-yassin\n",
      "Chairperson\n",
      "Start Date: 2020-04-01\n",
      "Orgnization: Khazanah Nasional Bhd\n",
      "\n",
      "\n",
      "------------\n",
      "\n",
      "Person: Tengku Zafrul Tengku Abdul Aziz\n",
      "A Malaysian corporate executive, current Malaysian Finance Minister and former CEO of CIMB Bank\n",
      "https://politikus.sinarproject.org/persons/tengku-zafrul-tengku-abdul-aziz\n",
      "Director\n",
      "Start Date: 2020-04-01\n",
      "Orgnization: Khazanah Nasional Bhd\n",
      "\n",
      "\n",
      "------------\n",
      "\n",
      "Person: Mohamad bin Hj Alamin\n",
      "Mohamad bin Hj Alamin is a Malaysian politician and Member of Parliament for Kimanis, Sabah for UMNO.\n",
      "https://politikus.sinarproject.org/persons/mohamad-bin-hj-alamin\n",
      "Chairman\n",
      "Start Date: 2020-05-02\n",
      "Orgnization: MyIPO\n",
      "MyIPO or Intellectual Property Corporation of Malaysia (PHIM) is a state corporation assigned with task of enforcement of the Intellectual Property Corporation of Malaysia Act 2002\n",
      "\n",
      "------------\n",
      "\n",
      "Person: Yusuf Abd Wahab\n",
      "Yusuf Abd Wahab is a Malaysian politician and Member of Parliament for seat of Tanjong Manis, Sarawak. He is a member of the Parti Pesaka Bumiputera Bersatu\n",
      "https://politikus.sinarproject.org/persons/yusuf-abd-wahab\n",
      "Chairman\n",
      "Start Date: 2020-05-01\n",
      "Orgnization: Construction Industry Development Board\n",
      "Construction Industry Development Board (CIDB)\n",
      "\n",
      "------------\n",
      "\n"
     ]
    }
   ],
   "source": [
    "for member in results['items']:\n",
    "    print(\"Person: \" + member['person']['title'])\n",
    "    print(member['person']['description'])\n",
    "    print(member['person']['@id'])\n",
    "    print(member['role'])\n",
    "    print(\"Start Date: \" + member['start_date'])\n",
    "    print(\"Orgnization: \" + member['organization']['title'])\n",
    "    print(member['organization']['description'])\n",
    "    print('\\n' + '------------' + '\\n')"
   ]
  },
  {
   "cell_type": "markdown",
   "metadata": {},
   "source": [
    "For each relation you will need to do an additional request for @id to get more details for each Person, Organization or Post"
   ]
  },
  {
   "cell_type": "code",
   "execution_count": 9,
   "metadata": {},
   "outputs": [],
   "source": [
    "url = 'https://politikus.sinarproject.org/persons/ahmad-jazlan'\n",
    "r = requests.get(url,headers=headers)\n",
    "\n",
    "person = r.json()"
   ]
  },
  {
   "cell_type": "markdown",
   "metadata": {},
   "source": [
    "person['image']['scales']['thumb']['download']"
   ]
  },
  {
   "cell_type": "markdown",
   "metadata": {},
   "source": [
    "![Ahmad Jazlan](https://politikus.sinarproject.org/persons/ahmad-jazlan/@@images/313da849-103a-4ec8-8429-9d8dd8ba5453.png)"
   ]
  },
  {
   "cell_type": "code",
   "execution_count": null,
   "metadata": {},
   "outputs": [],
   "source": []
  }
 ],
 "metadata": {
  "kernelspec": {
   "display_name": "Python 3",
   "language": "python",
   "name": "python3"
  },
  "language_info": {
   "codemirror_mode": {
    "name": "ipython",
    "version": 3
   },
   "file_extension": ".py",
   "mimetype": "text/x-python",
   "name": "python",
   "nbconvert_exporter": "python",
   "pygments_lexer": "ipython3",
   "version": "3.7.7"
  }
 },
 "nbformat": 4,
 "nbformat_minor": 4
}
