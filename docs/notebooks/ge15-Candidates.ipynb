{
 "cells": [
  {
   "cell_type": "code",
   "execution_count": 121,
   "id": "bb354ecd-4097-4aa2-bbc6-250ac2005a01",
   "metadata": {},
   "outputs": [],
   "source": [
    "import requests"
   ]
  },
  {
   "cell_type": "code",
   "execution_count": 122,
   "id": "955b6e6d-50fd-4499-828d-616111605df2",
   "metadata": {},
   "outputs": [],
   "source": [
    "url = 'https://politikus.sinarproject.org/elections/malaysia-15th-general-elections/parliamentary-candidates-for-ge15?fullobjects=1'"
   ]
  },
  {
   "cell_type": "code",
   "execution_count": 123,
   "id": "dc7001cd-8715-431c-8bd8-56b87087f26f",
   "metadata": {},
   "outputs": [],
   "source": [
    "headers={'Accept':'application/json'}"
   ]
  },
  {
   "cell_type": "code",
   "execution_count": 124,
   "id": "c71184bb-8664-49d0-b1e9-c19c9e74dcfb",
   "metadata": {},
   "outputs": [],
   "source": [
    "r = requests.get(url,headers=headers)"
   ]
  },
  {
   "cell_type": "code",
   "execution_count": 125,
   "id": "ca919d4c-1d11-4c61-8a7f-24c99698fd67",
   "metadata": {},
   "outputs": [],
   "source": [
    "candidates = r.json()['items']"
   ]
  },
  {
   "cell_type": "code",
   "execution_count": 130,
   "id": "bb8c8f0c-93bd-4ec1-9cef-82818581601a",
   "metadata": {},
   "outputs": [
    {
     "name": "stdout",
     "output_type": "stream",
     "text": [
      "P001 Padang Besar\n",
      "Zahidi Zainul Abidin\n",
      "Datuk Zahidi bin Zainul Abidin is a Malaysian politician, and currently serving as Deputy Minister of Communications and Multimedia since 10 March 2020\n",
      "https://politikus.sinarproject.org/persons/jonathan-yasin/@@images/81a18410-7ef7-4bb9-b9d6-c21e0fb12293.png\n",
      "Independent\n",
      "P001 Padang Besar\n",
      "Zahida Zarik Khan\n",
      "Dato' Zahida binti Zarik Khan is the head of Puteri UMNO, the women's youth wing of the political party\n",
      "https://politikus.sinarproject.org/persons/jonathan-yasin/@@images/81a18410-7ef7-4bb9-b9d6-c21e0fb12293.png\n",
      "UMNO\n",
      "P002 Kangar\n",
      "Noor Amin Ahmad\n",
      "Noor Amin Ahmad is a Malaysian politician and an MP for P002 Kangar.\n",
      "https://politikus.sinarproject.org/persons/jonathan-yasin/@@images/81a18410-7ef7-4bb9-b9d6-c21e0fb12293.png\n",
      "People's Justice Party\n",
      "P005 Jerlun\n",
      "Mukhriz Mahathir\n",
      "Mukhriz Mahathir is a Malaysian politician and Member of Parliament for Jerlun, Kedah. He is the son of Mahathir Mohammad.\n",
      "https://politikus.sinarproject.org/persons/jonathan-yasin/@@images/81a18410-7ef7-4bb9-b9d6-c21e0fb12293.png\n",
      "Homeland Fighters' Party\n",
      "P021 Kota Bharu\n",
      "Takiyuddin Hassan\n",
      "Dato' Takiyuddin bin Haji Hassan is a Malaysian politician from the Pan-Malaysian Islamic Party currently serving as the Member of Parliament of Malaysia for Kota Bharu constituency.\n",
      "https://politikus.sinarproject.org/persons/jonathan-yasin/@@images/81a18410-7ef7-4bb9-b9d6-c21e0fb12293.png\n",
      "Parti Islam Se-Malaysia (PAS)\n",
      "P063 Tambun\n",
      "Anwar Ibrahim\n",
      "Anwar Ibrahim is a Malaysian politician.\n",
      "https://politikus.sinarproject.org/persons/jonathan-yasin/@@images/81a18410-7ef7-4bb9-b9d6-c21e0fb12293.png\n",
      "People's Justice Party\n",
      "P075 Bagan Datuk\n",
      "Shamsul Iskandar @ Yusre Mohd. Akin\n",
      "Shamsul Iskandar is a Malaysian politician. He was the Deputy Minister of Primary Industries from 2018 to 2020.\n",
      "https://politikus.sinarproject.org/persons/jonathan-yasin/@@images/81a18410-7ef7-4bb9-b9d6-c21e0fb12293.png\n",
      "People's Justice Party\n",
      "P098 Gombak\n",
      "Azmin Ali\n",
      "Mohamed Azmin bin Ali is a Malaysian politician, who currently serves as a Senior Minister and the Minister of International Trade and Industry.\n",
      "https://politikus.sinarproject.org/persons/jonathan-yasin/@@images/81a18410-7ef7-4bb9-b9d6-c21e0fb12293.png\n",
      "Bersatu\n",
      "P102 Bangi\n",
      "Syahredzan Johan\n",
      "Syahredzan Johan is a lawyer and the aide to a politician\n",
      "https://politikus.sinarproject.org/persons/jonathan-yasin/@@images/81a18410-7ef7-4bb9-b9d6-c21e0fb12293.png\n",
      "Democratic Action Party\n",
      "P104 Subang\n",
      "Wong Chen\n",
      "Wong Chen (simplified Chinese: 黄基全; traditional Chinese: 黃基全; pinyin: Huáng Jīqúan) is a Malaysian politician from the People's Justice Party (PKR) currently serving as Member of Parliament (MP) of Malaysia for the Subang in Selangor\n",
      "https://politikus.sinarproject.org/persons/jonathan-yasin/@@images/81a18410-7ef7-4bb9-b9d6-c21e0fb12293.png\n",
      "People's Justice Party\n",
      "P104 Subang\n",
      "Kow Cheong Wei\n",
      "Dr Kow Cheong Wei is a Malaysian politician from Malaysian Chinese Association  (MCA) party, and former Kinrara Selangor State Assemblyman\n",
      "https://politikus.sinarproject.org/persons/jonathan-yasin/@@images/81a18410-7ef7-4bb9-b9d6-c21e0fb12293.png\n",
      "Malaysian Chinese Association\n",
      "P113 Sepang\n",
      "Rina Harun\n",
      "Rina binti Mohd Harun is a Malaysian politician, and currently serving as Minister of Women and Family since 10 March 2020. She formerly served as Minister of Rural Development since 2018\n",
      "https://politikus.sinarproject.org/persons/jonathan-yasin/@@images/81a18410-7ef7-4bb9-b9d6-c21e0fb12293.png\n",
      "Bersatu\n",
      "P115 Batu\n",
      "Chua Tian Chang\n",
      "Chua Tian Chang, better known as Tian Chua, is a Malaysian politician.\n",
      "https://politikus.sinarproject.org/persons/jonathan-yasin/@@images/81a18410-7ef7-4bb9-b9d6-c21e0fb12293.png\n",
      "Independent\n",
      "P119 Titiwangsa\n",
      "Johari Abdul Ghani\n",
      "Johari bin Abdul Ghani is a corporate figure, a Malaysian politician and former Second Finance Minister.\n",
      "https://politikus.sinarproject.org/persons/jonathan-yasin/@@images/81a18410-7ef7-4bb9-b9d6-c21e0fb12293.png\n",
      "UMNO\n",
      "P122 Seputeh\n",
      "Lee Wai Hong\n",
      "Lee Wai Hong is a potential candidate for parliamentary seat of Seputeh for 15th General Elections\n",
      "https://politikus.sinarproject.org/persons/jonathan-yasin/@@images/81a18410-7ef7-4bb9-b9d6-c21e0fb12293.png\n",
      "Independent\n",
      "P124 Bandar Tun Razak\n",
      "Wan Azizah Wan Ismail\n",
      "Wan Azizah Wan Ismail is a Malaysian politician.\n",
      "https://politikus.sinarproject.org/persons/jonathan-yasin/@@images/81a18410-7ef7-4bb9-b9d6-c21e0fb12293.png\n",
      "People's Justice Party\n",
      "P131 Rembau\n",
      "Mohamad Hasan\n",
      "Mohamad bin Hasan also popularly known as Tok Mat, is a Malaysian politician and the incumbent Deputy President of the United Malays National Organisation (UMNO) since 2018. Mohamad is currently the Negeri Sembilan State Legislative Assemblyman for Rantau\n",
      "https://politikus.sinarproject.org/persons/jonathan-yasin/@@images/81a18410-7ef7-4bb9-b9d6-c21e0fb12293.png\n",
      "UMNO\n",
      "P172 Kota Kinabalu\n",
      "Amanda Yeo Yan Yin\n",
      "Amanda Yeo Yan Yin is a research analyst and a politician contesting in the GE15.\n",
      "https://politikus.sinarproject.org/persons/jonathan-yasin/@@images/81a18410-7ef7-4bb9-b9d6-c21e0fb12293.png\n",
      "Parti Warisan Sabah (WARISAN)\n",
      "P173 Putatan\n",
      "Awang Husaini Sahari\n",
      "Awang Husaini Sahari is a Malaysian politician.\n",
      "https://politikus.sinarproject.org/persons/jonathan-yasin/@@images/81a18410-7ef7-4bb9-b9d6-c21e0fb12293.png\n",
      "People's Justice Party\n",
      "P179 Ranau\n",
      "Jonathan Yasin\n",
      "Jonathan bin Yasin is a Malaysian politician, and currently serving as Deputy Minister of Home Affairs since 10 March 2020\n",
      "https://politikus.sinarproject.org/persons/jonathan-yasin/@@images/81a18410-7ef7-4bb9-b9d6-c21e0fb12293.png\n",
      "Bersatu\n"
     ]
    }
   ],
   "source": [
    "# person{title, description} where title is name of candidate\n",
    "# label is seat name\n",
    "# on_behalf_of if available is party the person is representing, if None then independent\n",
    "\n",
    "for candidate in candidates:\n",
    "    print(candidate['label'])\n",
    "    print(candidate['person']['title'])\n",
    "    print(candidate['person']['description'])\n",
    "    r = requests.get(candidate['person']['@id'], headers=headers)\n",
    "    # to get more details about a person/candidate\n",
    "    # portrait url images are: large 768:768 preview 400:400 mini 200:200 thumb 128:128 tile 64:64\n",
    "    print(person['image']['scales']['thumb']['download'])\n",
    "    if candidate['on_behalf_of']:\n",
    "        print(candidate['on_behalf_of']['title'])\n",
    "    else:\n",
    "        print('Independent')"
   ]
  }
 ],
 "metadata": {
  "kernelspec": {
   "display_name": "Python 3 (ipykernel)",
   "language": "python",
   "name": "python3"
  },
  "language_info": {
   "codemirror_mode": {
    "name": "ipython",
    "version": 3
   },
   "file_extension": ".py",
   "mimetype": "text/x-python",
   "name": "python",
   "nbconvert_exporter": "python",
   "pygments_lexer": "ipython3",
   "version": "3.9.12"
  }
 },
 "nbformat": 4,
 "nbformat_minor": 5
}
