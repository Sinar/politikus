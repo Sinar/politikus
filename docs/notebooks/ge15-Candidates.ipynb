{
 "cells": [
  {
   "cell_type": "code",
   "execution_count": 172,
   "id": "bb354ecd-4097-4aa2-bbc6-250ac2005a01",
   "metadata": {},
   "outputs": [],
   "source": [
    "import requests\n",
    "import pandas"
   ]
  },
  {
   "cell_type": "code",
   "execution_count": 135,
   "id": "955b6e6d-50fd-4499-828d-616111605df2",
   "metadata": {},
   "outputs": [],
   "source": [
    "url = 'https://politikus.sinarproject.org/elections/malaysia-15th-general-elections/parliamentary-candidates-for-ge15?fullobjects=1'"
   ]
  },
  {
   "cell_type": "code",
   "execution_count": 136,
   "id": "dc7001cd-8715-431c-8bd8-56b87087f26f",
   "metadata": {},
   "outputs": [],
   "source": [
    "headers={'Accept':'application/json'}"
   ]
  },
  {
   "cell_type": "code",
   "execution_count": 137,
   "id": "c71184bb-8664-49d0-b1e9-c19c9e74dcfb",
   "metadata": {},
   "outputs": [],
   "source": [
    "r = requests.get(url,headers=headers)"
   ]
  },
  {
   "cell_type": "code",
   "execution_count": null,
   "id": "ca919d4c-1d11-4c61-8a7f-24c99698fd67",
   "metadata": {},
   "outputs": [],
   "source": [
    "candidates = r.json()['items']"
   ]
  },
  {
   "cell_type": "code",
   "execution_count": 177,
   "id": "bb8c8f0c-93bd-4ec1-9cef-82818581601a",
   "metadata": {},
   "outputs": [
    {
     "name": "stdout",
     "output_type": "stream",
     "text": [
      "P001 Padang Besar,Zahidi Zainul Abidin\n",
      "P001 Padang Besar,Zahida Zarik Khan\n",
      "P002 Kangar,Noor Amin Ahmad\n",
      "P005 Jerlun,Mukhriz Mahathir\n",
      "P021 Kota Bharu,Takiyuddin Hassan\n",
      "P063 Tambun,Anwar Ibrahim\n",
      "P075 Bagan Datuk,Shamsul Iskandar @ Yusre Mohd. Akin\n",
      "P098 Gombak,Azmin Ali\n",
      "P102 Bangi,Syahredzan Johan\n",
      "P104 Subang,Wong Chen\n",
      "P104 Subang,Kow Cheong Wei\n",
      "P113 Sepang,Rina Harun\n",
      "P115 Batu,Chua Tian Chang\n",
      "P119 Titiwangsa,Johari Abdul Ghani\n",
      "P122 Seputeh,Lee Wai Hong\n",
      "P124 Bandar Tun Razak,Wan Azizah Wan Ismail\n",
      "P131 Rembau,Mohamad Hasan\n",
      "P172 Kota Kinabalu,Amanda Yeo Yan Yin\n",
      "P173 Putatan,Awang Husaini Sahari\n",
      "P179 Ranau,Jonathan Yasin\n"
     ]
    }
   ],
   "source": [
    "# person{title, description} where title is name of candidate\n",
    "# label is seat name\n",
    "# on_behalf_of if available is party the person is representing, if None then independent\n",
    "\n",
    "# clean dict for export\n",
    "persons = []\n",
    "\n",
    "for candidate in candidates:\n",
    "    print(candidate['label'] + ',' + candidate['person']['title'])\n",
    "            \n",
    "    #Get more details by pulling in data from popolo person object\n",
    "    r = requests.get(candidate['person']['@id'], headers=headers)\n",
    "    \n",
    "    person_obj = r.json()\n",
    "    \n",
    "    person = {}  \n",
    "    \n",
    "    person['seat'] = candidate['label']\n",
    "    \n",
    "    if candidate['on_behalf_of']:\n",
    "        person['party'] = candidate['on_behalf_of']['title']\n",
    "    else:\n",
    "        person['party'] = 'Independent'\n",
    "    \n",
    "    person['name'] = candidate['person']['title']\n",
    "    person['description'] = candidate['person']['description']\n",
    "    if 'birth_date' in person_obj:\n",
    "        person['birth_date'] = person_obj['birth_date']\n",
    "    if 'gender' in person_obj:\n",
    "        person['gender'] = person_obj['gender']['title']\n",
    "    \n",
    "    # portrait url images are: large 768:768 preview 400:400 mini 200:200 thumb 128:128 tile 64:64\n",
    "    if 'image' in person_obj:\n",
    "        if person_obj['image']:\n",
    "            person['image'] = person_obj['image']['scales']['thumb']['download']\n",
    "            \n",
    "    person['uri'] = candidate['person']['@id']\n",
    "\n",
    "    persons.append(person)    "
   ]
  },
  {
   "cell_type": "code",
   "execution_count": 180,
   "id": "931ce9e5-abe2-493a-a6db-01f985248b8e",
   "metadata": {},
   "outputs": [
    {
     "name": "stdout",
     "output_type": "stream",
     "text": [
      "Exporting ge15-parl-candidates.csv in current directory\n"
     ]
    }
   ],
   "source": [
    "# import into pandas for export\n",
    "\n",
    "df = pandas.DataFrame(persons)\n",
    "print(\"Exporting ge15-parl-candidates.csv in current directory\")\n",
    "df.to_csv('ge15-parl-candidates.csv')"
   ]
  },
  {
   "cell_type": "code",
   "execution_count": null,
   "id": "c5e1213e-a8b1-48e1-bce5-ba453034282c",
   "metadata": {},
   "outputs": [],
   "source": []
  }
 ],
 "metadata": {
  "kernelspec": {
   "display_name": "Python 3 (ipykernel)",
   "language": "python",
   "name": "python3"
  },
  "language_info": {
   "codemirror_mode": {
    "name": "ipython",
    "version": 3
   },
   "file_extension": ".py",
   "mimetype": "text/x-python",
   "name": "python",
   "nbconvert_exporter": "python",
   "pygments_lexer": "ipython3",
   "version": "3.9.12"
  }
 },
 "nbformat": 4,
 "nbformat_minor": 5
}
